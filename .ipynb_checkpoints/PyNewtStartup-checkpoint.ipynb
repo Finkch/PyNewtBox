{
 "cells": [
  {
   "cell_type": "code",
   "execution_count": null,
   "id": "fcf7d080-3b15-4042-9ebf-cfece5bee931",
   "metadata": {},
   "outputs": [],
   "source": [
    "\"\"\"\n",
    "Skyler A. is the Galactic Overlord of this code.\n",
    "    This iteration was started on March 10, 2022.\n",
    "    The goal of this code is to reasonably accurately simulate and display celestial bodies in their dance of gravitational forces.\n",
    "        Mostly to look good rather than calculate anything meaningful.\n",
    "\"\"\""
   ]
  }
 ],
 "metadata": {
  "kernelspec": {
   "display_name": "Python 3",
   "language": "python",
   "name": "python3"
  },
  "language_info": {
   "codemirror_mode": {
    "name": "ipython",
    "version": 3
   },
   "file_extension": ".py",
   "mimetype": "text/x-python",
   "name": "python",
   "nbconvert_exporter": "python",
   "pygments_lexer": "ipython3",
   "version": "3.8.8"
  }
 },
 "nbformat": 4,
 "nbformat_minor": 5
}
