{
 "cells": [
  {
   "cell_type": "code",
   "execution_count": null,
   "id": "e0c1c58a-04d2-48ff-9d2b-f2afe6a3d6e3",
   "metadata": {},
   "outputs": [],
   "source": [
    "# An actor is a class that contains all the information required to model a celestial body\n",
    "#   That is, at least in terms of its orbit\n",
    "#   An actor is defined by its mass and radius\n",
    "#   It is modelled in two ways:\n",
    "#     Gravitationally, it is a point mass\n",
    "#     Volume-wise, it is a perfect sphere\n",
    "\n",
    "class Actor:\n",
    "    def __init__(self, mass, radius):\n",
    "        self.mass = mass\n",
    "        self.radius = radius"
   ]
  }
 ],
 "metadata": {
  "kernelspec": {
   "display_name": "Python 3",
   "language": "python",
   "name": "python3"
  },
  "language_info": {
   "codemirror_mode": {
    "name": "ipython",
    "version": 3
   },
   "file_extension": ".py",
   "mimetype": "text/x-python",
   "name": "python",
   "nbconvert_exporter": "python",
   "pygments_lexer": "ipython3",
   "version": "3.8.8"
  }
 },
 "nbformat": 4,
 "nbformat_minor": 5
}
