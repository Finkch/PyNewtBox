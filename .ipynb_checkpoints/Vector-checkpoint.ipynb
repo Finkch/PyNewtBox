{
 "cells": [
  {
   "cell_type": "code",
   "execution_count": 4,
   "id": "590be8c2-e85b-4fdb-810c-75d23ca93707",
   "metadata": {},
   "outputs": [
    {
     "name": "stdout",
     "output_type": "stream",
     "text": [
      "/Users/skyler.alderson/Documents/GitHub/PyNewtBox\n"
     ]
    }
   ],
   "source": [
    "# A vector describes direction and magnitude in 3-space; x, y, & z\n",
    "#   Their goal is to package together the important information within a single vector\n",
    "\n",
    "class Vector:\n",
    "    def __init__(self, x, y, z):\n",
    "        self.x = x\n",
    "        self.y = y\n",
    "        self.z = z\n",
    "    \n",
    "    \n",
    "    # Returns the quadrature sum\n",
    "    def getMagnitude():\n",
    "        return (x ** 2 + y ** 2 + z ** 2) ** (1/2)\n",
    "    \n",
    "    \n",
    "    # Returns the unit vector in the same direction as this vector\n",
    "    def getNormal():\n",
    "        mag = self.getMagnitude()\n",
    "        return Vector(x / mag, y / mag, z / mag)"
   ]
  },
  {
   "cell_type": "code",
   "execution_count": null,
   "id": "0c37f308-5b79-457a-a3ab-18fbce549fc8",
   "metadata": {},
   "outputs": [],
   "source": []
  }
 ],
 "metadata": {
  "kernelspec": {
   "display_name": "Python 3",
   "language": "python",
   "name": "python3"
  },
  "language_info": {
   "codemirror_mode": {
    "name": "ipython",
    "version": 3
   },
   "file_extension": ".py",
   "mimetype": "text/x-python",
   "name": "python",
   "nbconvert_exporter": "python",
   "pygments_lexer": "ipython3",
   "version": "3.8.8"
  }
 },
 "nbformat": 4,
 "nbformat_minor": 5
}
